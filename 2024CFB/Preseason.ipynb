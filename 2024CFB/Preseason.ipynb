{
 "cells": [
  {
   "cell_type": "code",
   "execution_count": 2,
   "id": "61a7236d-edd1-41dd-8908-459010eb8f7d",
   "metadata": {},
   "outputs": [],
   "source": [
    "from seasonstats import *\n",
    "import statsmodels.api as sm\n",
    "import pickle"
   ]
  },
  {
   "cell_type": "markdown",
   "id": "1a83ba79-cfd6-4cb6-b733-748cae6c52ea",
   "metadata": {},
   "source": [
    "# Step 3: Get End of Season Data"
   ]
  },
  {
   "cell_type": "code",
   "execution_count": 7,
   "id": "e4a6c358-96b9-45d5-bdc6-0acfc7fced3a",
   "metadata": {},
   "outputs": [],
   "source": [
    "#OFFSEASON DATA\n",
    "talent = pd.DataFrame()\n",
    "for year in [2018,2019,2020,2021,2022,2023]:\n",
    "    talent = pd.concat([talent,getData('talent',{'year':year})])\n"
   ]
  },
  {
   "cell_type": "code",
   "execution_count": 8,
   "id": "9f718d63-6bfa-4b83-bea4-f636b13a3497",
   "metadata": {},
   "outputs": [],
   "source": [
    "returning= pd.DataFrame()\n",
    "for year in [2018,2019,2020,2021,2022,2023]:\n",
    "    returning = pd.concat([returning,getData('player/returning',{'year':year})])"
   ]
  },
  {
   "cell_type": "code",
   "execution_count": 242,
   "id": "207227fb-1824-4eff-bdf8-91f4d07e4507",
   "metadata": {},
   "outputs": [],
   "source": [
    "#Take end of year data (DONE)\n",
    "#Update the data for offseason data (returning prod & talent)\n",
    "#Use that dataset as input\n",
    "\n",
    "\n",
    "#END OF SEASON DATA\n",
    "offenseend={}\n",
    "defenseend={}\n",
    "for year in [2022]:\n",
    "    with open(f'data/endofseasonratings/{year}offense.pkl','rb') as f:\n",
    "        offenseend[year] = pickle.load(f)\n",
    "    with open(f'data/endofseasonratings/{year}defense.pkl','rb') as f:\n",
    "        defenseend[year] = pickle.load(f)\n"
   ]
  },
  {
   "cell_type": "code",
   "execution_count": 243,
   "id": "2be8c9c5-1030-4039-9b43-f4460b4fd25e",
   "metadata": {},
   "outputs": [],
   "source": [
    "offseasondata = pd.merge(talent,returning[['season','team','percentPPA']],how='left',left_on=['year','school'],right_on=['season','team']).dropna()\n",
    "offseasondata['talent']=offseasondata['talent'].astype(float)\n"
   ]
  },
  {
   "cell_type": "code",
   "execution_count": 244,
   "id": "7e7aeae6-f4d2-42c6-ba76-2ad601326ca7",
   "metadata": {},
   "outputs": [],
   "source": [
    "#offenseend[2018]\n",
    "#offseasondata[offseasondata['year']==2018]\n",
    "\n",
    "\n",
    "prelog = pd.read_pickle(\"models/preseason.pickle\")\n",
    "\n",
    "offseasondata['expWin']=prelog.predict(sm.add_constant(offseasondata[['percentPPA','talent']]))"
   ]
  },
  {
   "cell_type": "markdown",
   "id": "9ce4705b-bee7-4912-bbc7-c277bb6c697b",
   "metadata": {},
   "source": [
    "# Step 4: Calculate Preseason Ratings for the Next Year"
   ]
  },
  {
   "cell_type": "code",
   "execution_count": 245,
   "id": "932ef727-2e0b-4a5f-83e6-210d3e7f40c7",
   "metadata": {},
   "outputs": [],
   "source": [
    "#offenseend"
   ]
  },
  {
   "cell_type": "code",
   "execution_count": 246,
   "id": "d650edd4-06de-40fa-a704-68d0b6f238f2",
   "metadata": {},
   "outputs": [],
   "source": [
    "offensepre = {}\n",
    "defensepre = {}\n",
    "year=2022 #previous year (year from offenseend)\n",
    "\n",
    "offensepre[year+1]={}\n",
    "for metric in offenseend[year].keys():\n",
    "    offensepre[year+1][metric]={}\n",
    "    for item in offenseend[year][metric].items():\n",
    "        item[0] #team name\n",
    "        newvalue1 = item[1]*.6+1500*.4\n",
    "        try:\n",
    "            adjustment = (offseasondata[(offseasondata['year']==(year+1))&(offseasondata['school']==item[0])]['expWin'].iloc[0]-.5)*400\n",
    "        except: adjustment = 0\n",
    "        #print(item[0],item[1],int(newvalue1+adjustment), (adjustment))\n",
    "        offensepre[year+1][metric][item[0]]=int(newvalue1+adjustment)\n",
    "\n",
    "defensepre[year+1]={}\n",
    "for metric in defenseend[year].keys():\n",
    "    defensepre[year+1][metric]={}\n",
    "    for item in defenseend[year][metric].items():\n",
    "        item[0] #team name\n",
    "        newvalue1 = item[1]*.6+1500*.4\n",
    "        try:\n",
    "            adjustment = (offseasondata[(offseasondata['year']==(year+1))&(offseasondata['school']==item[0])]['expWin'].iloc[0]-.5)*400\n",
    "        except: adjustment = 0\n",
    "        #print(item[0],item[1],int(newvalue1+adjustment), (adjustment))\n",
    "        defensepre[year+1][metric][item[0]]=int(newvalue1+adjustment)\n",
    "    \n",
    "\n"
   ]
  },
  {
   "cell_type": "code",
   "execution_count": 247,
   "id": "03c01b38-ef73-4b2c-b127-dd2e1b865180",
   "metadata": {},
   "outputs": [],
   "source": [
    "\n",
    "\n",
    "#offensepre[2019]['ypp']['LSU'],offensepre[2019]['TDRatio']['LSU'],offensepre[2019]['TurnoverRatio']['LSU']\n"
   ]
  },
  {
   "cell_type": "code",
   "execution_count": 248,
   "id": "7cc45c72-a449-4446-9022-6c09cd907d73",
   "metadata": {},
   "outputs": [],
   "source": [
    "#offenseend[2018]['ypp']['LSU'],offenseend[2018]['TDRatio']['LSU'],offenseend[2018]['TurnoverRatio']['LSU']"
   ]
  },
  {
   "cell_type": "code",
   "execution_count": 249,
   "id": "3a1b70e5-6078-4792-b082-0f961582a538",
   "metadata": {},
   "outputs": [],
   "source": [
    "#offseasondata[(offseasondata['year']==2019)].sort_values(\"expWin\",ascending=False).head(20)"
   ]
  },
  {
   "cell_type": "markdown",
   "id": "e22ebd8e-ad0d-40e3-9368-2ab5824a0f6a",
   "metadata": {},
   "source": [
    "checko = pd.merge(pd.DataFrame.from_dict(offensepre[2019]['TDRatio'],orient='index',columns=['ypp']).sort_values('ypp',ascending=False),\n",
    "pd.DataFrame.from_dict(offenseend[2018]['TDRatio'],orient='index',columns=['ypp']).sort_values('ypp',ascending=False), how='left',left_index=True,right_index=True, suffixes=('_19pre','_18end'))\n",
    "\n",
    "checkd = pd.merge(pd.DataFrame.from_dict(defensepre[2019]['TDRatio'],orient='index',columns=['ypp']).sort_values('ypp',ascending=False),\n",
    "pd.DataFrame.from_dict(defenseend[2018]['TDRatio'],orient='index',columns=['ypp']).sort_values('ypp',ascending=False), how='left',left_index=True,right_index=True, suffixes=('_19pre','_18end'))\n",
    "\n",
    "\n",
    "check = pd.merge(checko,checkd,how='left',left_index=True,right_index=True,suffixes=(\"_off\",\"_def\"))\n",
    "check['18total']=check['ypp_18end_off']+check['ypp_18end_def']\n",
    "check['19total']=check['ypp_19pre_off']+check['ypp_19pre_def']\n",
    "\n",
    "check['18total']=check['18total'].rank(ascending=False)\n",
    "check['19total']=check['19total'].rank(ascending=False)\n",
    "\n",
    "check.sort_values(by='19total',ascending=True).head(20)"
   ]
  },
  {
   "cell_type": "markdown",
   "id": "d83f06f2-f915-4dd9-9158-aeedc20f4129",
   "metadata": {},
   "source": [
    "check.head(40).assign(change = lambda x: x['18total']-x['19total']).sort_values(by='change',ascending=False)"
   ]
  },
  {
   "cell_type": "markdown",
   "id": "86dbb49e-826e-4749-a204-4ff53ed228b2",
   "metadata": {},
   "source": [
    "# Step 5: Export the Preseason Data to be used in the next ELO Model"
   ]
  },
  {
   "cell_type": "code",
   "execution_count": 250,
   "id": "f128a503-1695-438c-b847-e83c446a6d24",
   "metadata": {},
   "outputs": [],
   "source": [
    "#EXPORT PRESEASON DATA FOR THE NEXT YEAR\n",
    "#THIS DATE SHOULD BE ONE YEAR AFTER ALL INPUT DATA'S DATE\n",
    "'''\n",
    "with open('data/preseasonratings/2023offense.pkl','wb') as f:\n",
    "    pickle.dump(offensepre,f)\n",
    "with open('data/preseasonratings/2023defense.pkl','wb') as f:\n",
    "    pickle.dump(defensepre,f)"
   ]
  },
  {
   "cell_type": "code",
   "execution_count": 164,
   "id": "1af4b7a3-2974-4562-abf2-d8557e13c91a",
   "metadata": {},
   "outputs": [],
   "source": [
    "# Return to ELOCalc.ipynb and use the preseason data as input data for next ELO"
   ]
  },
  {
   "cell_type": "code",
   "execution_count": null,
   "id": "fab35284-42f3-418d-a39b-7e7d14075b19",
   "metadata": {},
   "outputs": [],
   "source": []
  }
 ],
 "metadata": {
  "kernelspec": {
   "display_name": "Python 3 (ipykernel)",
   "language": "python",
   "name": "python3"
  },
  "language_info": {
   "codemirror_mode": {
    "name": "ipython",
    "version": 3
   },
   "file_extension": ".py",
   "mimetype": "text/x-python",
   "name": "python",
   "nbconvert_exporter": "python",
   "pygments_lexer": "ipython3",
   "version": "3.12.2"
  }
 },
 "nbformat": 4,
 "nbformat_minor": 5
}
